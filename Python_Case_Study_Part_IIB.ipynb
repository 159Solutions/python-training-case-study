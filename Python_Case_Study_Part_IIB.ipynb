{
 "cells": [
  {
   "cell_type": "code",
   "execution_count": 82,
   "metadata": {
    "collapsed": true
   },
   "outputs": [],
   "source": [
    "import pandas as pd\n",
    "import numpy as np\n",
    "pd.set_option('display.max_columns', 500)\n",
    "folder = \"C:/Users/Vikrant/Desktop/Session/Case/\""
   ]
  },
  {
   "cell_type": "code",
   "execution_count": 83,
   "metadata": {},
   "outputs": [
    {
     "name": "stdout",
     "output_type": "stream",
     "text": [
      "          NPI SPECIALTY   LAST_NAME FIRST_NAME MIDDLE_NAME  \\\n",
      "0  1003001363       OPH     STEVENS    CHARLES         NaN   \n",
      "1  1003006115       RHM      DURHAM   BENJAMIN         NaN   \n",
      "2  1003014986       OPM  YUZEFOVICH    MICHAEL         NaN   \n",
      "3  1003017971       RHM       TWEET    MATTHEW         LEE   \n",
      "4  1003029034      OPRS       BOWEN     JOSEPH    MARSHALL   \n",
      "\n",
      "             ADDRESS_FIRST_LINE ADDRESS_SECOND_LINE        CITY STATE  \\\n",
      "0     1665 S IMPERIAL AVE STE D                 NaN   EL CENTRO    CA   \n",
      "1      2300 MANCHESTER EXPY # A         SUITE 101-A    COLUMBUS    GA   \n",
      "2  8302 OLD COURTHOUSE RD STE A                 NaN      VIENNA    VA   \n",
      "3              2725 CAPITOL AVE           SUITE 302  SACRAMENTO    CA   \n",
      "4            1296 E POLSTON AVE             SUITE B  POST FALLS    ID   \n",
      "\n",
      "         ZIP  \n",
      "0  922434247  \n",
      "1  319046802  \n",
      "2  221823873  \n",
      "3  958166004  \n",
      "4  838545217  \n"
     ]
    },
    {
     "data": {
      "text/plain": [
       "NPI                    object\n",
       "SPECIALTY              object\n",
       "LAST_NAME              object\n",
       "FIRST_NAME             object\n",
       "MIDDLE_NAME            object\n",
       "ADDRESS_FIRST_LINE     object\n",
       "ADDRESS_SECOND_LINE    object\n",
       "CITY                   object\n",
       "STATE                  object\n",
       "ZIP                    object\n",
       "dtype: object"
      ]
     },
     "execution_count": 83,
     "metadata": {},
     "output_type": "execute_result"
    }
   ],
   "source": [
    "NPPES_df = pd.read_csv(folder+\"NPPES DATA_KOL.csv\", sep = \",\",quotechar = '\"',\\\n",
    "                 dtype = object)\n",
    "print (NPPES_df.head())\n",
    "NPPES_df.dtypes"
   ]
  },
  {
   "cell_type": "code",
   "execution_count": 84,
   "metadata": {},
   "outputs": [
    {
     "name": "stdout",
     "output_type": "stream",
     "text": [
      "  LAST_NAME FIRST_NAME MIDDLE_NAME     ADDRESS_FIRST_LINE            CITY  \\\n",
      "0  SIDDaQUI     KHALID           A   951 N WASHINGTON AVE      TITUSVILLE   \n",
      "1  ANDERSON    CHARBES       PETER         1400 S HWY 123      SAN MARCOS   \n",
      "2      BABU      SARAT         NaN       51 W PROSPECT ST  EAST BRUNSWICK   \n",
      "3      DAEY     SHARON           M  619 19TH STREET SOUTH      BIRMINGHAM   \n",
      "4     PLOTZ       PHIL     BRADLEY         699 W TEFFT ST          NIPOMO   \n",
      "\n",
      "  STATE        ZIP  \n",
      "0    FL        NaN  \n",
      "1    TX      78666  \n",
      "2    NJ   88165711  \n",
      "3    AL      35233  \n",
      "4    CA  934449289  \n"
     ]
    },
    {
     "data": {
      "text/plain": [
       "LAST_NAME             30\n",
       "FIRST_NAME            30\n",
       "MIDDLE_NAME           24\n",
       "ADDRESS_FIRST_LINE    30\n",
       "CITY                  27\n",
       "STATE                 30\n",
       "ZIP                   26\n",
       "dtype: int64"
      ]
     },
     "execution_count": 84,
     "metadata": {},
     "output_type": "execute_result"
    }
   ],
   "source": [
    "KOL_df = pd.read_csv(folder+\"30 KOLs.csv\", sep = \",\",quotechar = '\"',\\\n",
    "                 dtype = object)\n",
    "print (KOL_df.head())\n",
    "KOL_df.count()"
   ]
  },
  {
   "cell_type": "code",
   "execution_count": 85,
   "metadata": {},
   "outputs": [
    {
     "data": {
      "text/html": [
       "<div>\n",
       "<style>\n",
       "    .dataframe thead tr:only-child th {\n",
       "        text-align: right;\n",
       "    }\n",
       "\n",
       "    .dataframe thead th {\n",
       "        text-align: left;\n",
       "    }\n",
       "\n",
       "    .dataframe tbody tr th {\n",
       "        vertical-align: top;\n",
       "    }\n",
       "</style>\n",
       "<table border=\"1\" class=\"dataframe\">\n",
       "  <thead>\n",
       "    <tr style=\"text-align: right;\">\n",
       "      <th></th>\n",
       "      <th>LAST_NAME</th>\n",
       "      <th>FIRST_NAME</th>\n",
       "      <th>MIDDLE_NAME</th>\n",
       "      <th>ADDRESS_FIRST_LINE</th>\n",
       "      <th>CITY</th>\n",
       "      <th>STATE</th>\n",
       "      <th>ZIP</th>\n",
       "      <th>COMBINED</th>\n",
       "    </tr>\n",
       "  </thead>\n",
       "  <tbody>\n",
       "    <tr>\n",
       "      <th>0</th>\n",
       "      <td>SIDDaQUI</td>\n",
       "      <td>KHALID</td>\n",
       "      <td>A</td>\n",
       "      <td>951 N WASHINGTON AVE</td>\n",
       "      <td>TITUSVILLE</td>\n",
       "      <td>FL</td>\n",
       "      <td></td>\n",
       "      <td>SIDDaQUIKHALIDA951 N WASHINGTON AVETITUSVILLEFL</td>\n",
       "    </tr>\n",
       "    <tr>\n",
       "      <th>1</th>\n",
       "      <td>ANDERSON</td>\n",
       "      <td>CHARBES</td>\n",
       "      <td>PETER</td>\n",
       "      <td>1400 S HWY 123</td>\n",
       "      <td>SAN MARCOS</td>\n",
       "      <td>TX</td>\n",
       "      <td>78666</td>\n",
       "      <td>ANDERSONCHARBESPETER1400 S HWY 123SAN MARCOSTX...</td>\n",
       "    </tr>\n",
       "    <tr>\n",
       "      <th>2</th>\n",
       "      <td>BABU</td>\n",
       "      <td>SARAT</td>\n",
       "      <td></td>\n",
       "      <td>51 W PROSPECT ST</td>\n",
       "      <td>EAST BRUNSWICK</td>\n",
       "      <td>NJ</td>\n",
       "      <td>88165711</td>\n",
       "      <td>BABUSARAT51 W PROSPECT STEAST BRUNSWICKNJ88165711</td>\n",
       "    </tr>\n",
       "    <tr>\n",
       "      <th>3</th>\n",
       "      <td>DAEY</td>\n",
       "      <td>SHARON</td>\n",
       "      <td>M</td>\n",
       "      <td>619 19TH STREET SOUTH</td>\n",
       "      <td>BIRMINGHAM</td>\n",
       "      <td>AL</td>\n",
       "      <td>35233</td>\n",
       "      <td>DAEYSHARONM619 19TH STREET SOUTHBIRMINGHAMAL35233</td>\n",
       "    </tr>\n",
       "    <tr>\n",
       "      <th>4</th>\n",
       "      <td>PLOTZ</td>\n",
       "      <td>PHIL</td>\n",
       "      <td>BRADLEY</td>\n",
       "      <td>699 W TEFFT ST</td>\n",
       "      <td>NIPOMO</td>\n",
       "      <td>CA</td>\n",
       "      <td>934449289</td>\n",
       "      <td>PLOTZPHILBRADLEY699 W TEFFT STNIPOMOCA934449289</td>\n",
       "    </tr>\n",
       "  </tbody>\n",
       "</table>\n",
       "</div>"
      ],
      "text/plain": [
       "  LAST_NAME FIRST_NAME MIDDLE_NAME     ADDRESS_FIRST_LINE            CITY  \\\n",
       "0  SIDDaQUI     KHALID           A   951 N WASHINGTON AVE      TITUSVILLE   \n",
       "1  ANDERSON    CHARBES       PETER         1400 S HWY 123      SAN MARCOS   \n",
       "2      BABU      SARAT                   51 W PROSPECT ST  EAST BRUNSWICK   \n",
       "3      DAEY     SHARON           M  619 19TH STREET SOUTH      BIRMINGHAM   \n",
       "4     PLOTZ       PHIL     BRADLEY         699 W TEFFT ST          NIPOMO   \n",
       "\n",
       "  STATE        ZIP                                           COMBINED  \n",
       "0    FL               SIDDaQUIKHALIDA951 N WASHINGTON AVETITUSVILLEFL  \n",
       "1    TX      78666  ANDERSONCHARBESPETER1400 S HWY 123SAN MARCOSTX...  \n",
       "2    NJ   88165711  BABUSARAT51 W PROSPECT STEAST BRUNSWICKNJ88165711  \n",
       "3    AL      35233  DAEYSHARONM619 19TH STREET SOUTHBIRMINGHAMAL35233  \n",
       "4    CA  934449289    PLOTZPHILBRADLEY699 W TEFFT STNIPOMOCA934449289  "
      ]
     },
     "execution_count": 85,
     "metadata": {},
     "output_type": "execute_result"
    }
   ],
   "source": [
    "## As the column names are same select NPI and columns present in KOL list from NPPES data\n",
    "NPPES_df =  NPPES_df.fillna('')\n",
    "KOL_df =  KOL_df.fillna('')\n",
    "NPPES_df['COMBINED_NPPES'] = ''\n",
    "KOL_df['COMBINED'] = ''\n",
    "for col in KOL_df.columns:\n",
    "    if (col != 'COMBINED'):\n",
    "        NPPES_df['COMBINED_NPPES'] = NPPES_df['COMBINED_NPPES']+ NPPES_df[col]\n",
    "        KOL_df['COMBINED'] = KOL_df['COMBINED']+ KOL_df[col]\n",
    "NPPES_df = NPPES_df[['COMBINED_NPPES','NPI']]\n",
    "KOL_df.head()"
   ]
  },
  {
   "cell_type": "code",
   "execution_count": 86,
   "metadata": {},
   "outputs": [
    {
     "data": {
      "text/plain": [
       "0     275\n",
       "1     276\n",
       "2     277\n",
       "3     278\n",
       "4     279\n",
       "5     280\n",
       "6     281\n",
       "7     282\n",
       "8     283\n",
       "9     284\n",
       "10    285\n",
       "11    286\n",
       "12    287\n",
       "13    288\n",
       "14    289\n",
       "15    290\n",
       "16    291\n",
       "17    292\n",
       "18    293\n",
       "19    294\n",
       "20    295\n",
       "21    296\n",
       "22    297\n",
       "23    298\n",
       "24    299\n",
       "25    300\n",
       "26    301\n",
       "27    302\n",
       "28    303\n",
       "29    304\n",
       "Name: INDEX, dtype: int64"
      ]
     },
     "execution_count": 86,
     "metadata": {},
     "output_type": "execute_result"
    }
   ],
   "source": [
    "from fuzzywuzzy import process, fuzz\n",
    "def fuzzy_match(x, choices, scorer, cutoff):\n",
    "    return process.extractOne(\n",
    "        x, choices=choices, scorer=scorer, score_cutoff=cutoff\n",
    "    )\n",
    "\n",
    "matching_results = KOL_df.loc[:, 'COMBINED'].apply(\n",
    "    fuzzy_match,\n",
    "    args=(\n",
    "        NPPES_df.loc[:, 'COMBINED_NPPES'], \n",
    "        fuzz.ratio,\n",
    "        80\n",
    "    )\n",
    ")\n",
    "matching_results_df = matching_results.apply(pd.Series)\n",
    "matching_results_df.columns=['COMBINED_NPPES','SCORE','INDEX']\n",
    "matching_results_df['INDEX']"
   ]
  },
  {
   "cell_type": "code",
   "execution_count": 87,
   "metadata": {},
   "outputs": [],
   "source": [
    "KOL_NPI_df = NPPES_df.drop('COMBINED_NPPES',axis = 1).loc[matching_results_df['INDEX']]\n",
    "KOL_NPI_df.to_csv(folder+'KOL_NPI.csv', index = False)"
   ]
  }
 ],
 "metadata": {
  "kernelspec": {
   "display_name": "Python 3",
   "language": "python",
   "name": "python3"
  },
  "language_info": {
   "codemirror_mode": {
    "name": "ipython",
    "version": 3
   },
   "file_extension": ".py",
   "mimetype": "text/x-python",
   "name": "python",
   "nbconvert_exporter": "python",
   "pygments_lexer": "ipython3",
   "version": "3.6.1"
  }
 },
 "nbformat": 4,
 "nbformat_minor": 2
}
